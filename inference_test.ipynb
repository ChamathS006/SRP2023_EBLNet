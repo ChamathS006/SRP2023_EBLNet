{
 "cells": [
  {
   "cell_type": "code",
   "execution_count": 1,
   "metadata": {},
   "outputs": [
    {
     "name": "stderr",
     "output_type": "stream",
     "text": [
      "/home/chamathdsuraweera/anaconda3/envs/srp2023/lib/python3.7/site-packages/tqdm/auto.py:22: TqdmWarning: IProgress not found. Please update jupyter and ipywidgets. See https://ipywidgets.readthedocs.io/en/stable/user_install.html\n",
      "  from .autonotebook import tqdm as notebook_tqdm\n"
     ]
    }
   ],
   "source": [
    "import os\n",
    "import logging\n",
    "import sys\n",
    "import argparse\n",
    "import re\n",
    "import queue\n",
    "import threading\n",
    "from math import ceil\n",
    "from datetime import datetime\n",
    "from tqdm import tqdm\n",
    "import cv2\n",
    "from PIL import Image\n",
    "import PIL\n",
    "from torch.backends import cudnn\n",
    "from torch.utils.data import DataLoader\n",
    "import torch\n",
    "import torchvision.transforms as transforms\n",
    "import importlib\n",
    "\n",
    "import torch.nn.functional as F\n",
    "import numpy as np\n",
    "import transforms.transforms as extended_transforms\n",
    "\n",
    "from collections import OrderedDict\n",
    "from datasets import MSD, Trans10k, GDD\n",
    "from optimizer import restore_snapshot\n",
    "\n",
    "import transforms.joint_transforms as joint_transforms\n",
    "\n",
    "from utils.my_data_parallel import MyDataParallel\n",
    "from utils.misc import fast_hist, save_log, \\\n",
    "    evaluate_eval_for_inference, cal_mae, cal_ber, evaluate_eval_for_inference_with_mae_ber\n",
    "\n",
    "from network.EBLNet import EBLNet_resnet50_os8\n",
    "from config import assert_cfg_vid\n"
   ]
  },
  {
   "cell_type": "code",
   "execution_count": 2,
   "metadata": {},
   "outputs": [],
   "source": [
    "# Set up configurations with a custom function instead of the validated assert_and_infer_cfg\n",
    "assert_cfg_vid()"
   ]
  },
  {
   "cell_type": "code",
   "execution_count": 3,
   "metadata": {},
   "outputs": [
    {
     "name": "stdout",
     "output_type": "stream",
     "text": [
      "Warning:  using Python fallback for SyncBatchNorm, possibly because apex was installed without --cuda_ext.  The exception raised when attempting to import the cuda backend was:  No module named 'syncbn'\n"
     ]
    }
   ],
   "source": [
    "# Initialise a model\n",
    "model = EBLNet_resnet50_os8(num_classes=3,\n",
    "                            criterion=None,\n",
    "                            num_cascade=1,\n",
    "                            num_points=96,\n",
    "                            threshold=0.85)"
   ]
  },
  {
   "cell_type": "code",
   "execution_count": 8,
   "metadata": {},
   "outputs": [
    {
     "data": {
      "text/plain": [
       "network.EBLNet.EBLNet"
      ]
     },
     "execution_count": 8,
     "metadata": {},
     "output_type": "execute_result"
    }
   ],
   "source": [
    "type(model)"
   ]
  },
  {
   "cell_type": "code",
   "execution_count": 4,
   "metadata": {},
   "outputs": [
    {
     "name": "stdout",
     "output_type": "stream",
     "text": [
      "dict_keys(['state_dict', 'optimizer', 'epoch', 'mean_iu', 'command'])\n"
     ]
    }
   ],
   "source": [
    "checkpoint_temp = torch.load(\"checkpoints/Trans10k_resnet50_os8.pth\")\n",
    "print(checkpoint_temp.keys())\n",
    "state_dict_temp = checkpoint_temp['state_dict']"
   ]
  },
  {
   "cell_type": "code",
   "execution_count": 5,
   "metadata": {},
   "outputs": [
    {
     "data": {
      "text/plain": [
       "odict_keys(['module.layer0.0.0.weight', 'module.layer0.0.1.weight', 'module.layer0.0.1.bias', 'module.layer0.0.1.running_mean', 'module.layer0.0.1.running_var', 'module.layer0.0.1.num_batches_tracked', 'module.layer0.0.3.weight', 'module.layer0.0.4.weight', 'module.layer0.0.4.bias', 'module.layer0.0.4.running_mean', 'module.layer0.0.4.running_var', 'module.layer0.0.4.num_batches_tracked', 'module.layer0.0.6.weight', 'module.layer0.1.weight', 'module.layer0.1.bias', 'module.layer0.1.running_mean', 'module.layer0.1.running_var', 'module.layer0.1.num_batches_tracked', 'module.layer1.0.conv1.weight', 'module.layer1.0.bn1.weight', 'module.layer1.0.bn1.bias', 'module.layer1.0.bn1.running_mean', 'module.layer1.0.bn1.running_var', 'module.layer1.0.bn1.num_batches_tracked', 'module.layer1.0.conv2.weight', 'module.layer1.0.bn2.weight', 'module.layer1.0.bn2.bias', 'module.layer1.0.bn2.running_mean', 'module.layer1.0.bn2.running_var', 'module.layer1.0.bn2.num_batches_tracked', 'module.layer1.0.conv3.weight', 'module.layer1.0.bn3.weight', 'module.layer1.0.bn3.bias', 'module.layer1.0.bn3.running_mean', 'module.layer1.0.bn3.running_var', 'module.layer1.0.bn3.num_batches_tracked', 'module.layer1.0.downsample.0.weight', 'module.layer1.0.downsample.1.weight', 'module.layer1.0.downsample.1.bias', 'module.layer1.0.downsample.1.running_mean', 'module.layer1.0.downsample.1.running_var', 'module.layer1.0.downsample.1.num_batches_tracked', 'module.layer1.1.conv1.weight', 'module.layer1.1.bn1.weight', 'module.layer1.1.bn1.bias', 'module.layer1.1.bn1.running_mean', 'module.layer1.1.bn1.running_var', 'module.layer1.1.bn1.num_batches_tracked', 'module.layer1.1.conv2.weight', 'module.layer1.1.bn2.weight', 'module.layer1.1.bn2.bias', 'module.layer1.1.bn2.running_mean', 'module.layer1.1.bn2.running_var', 'module.layer1.1.bn2.num_batches_tracked', 'module.layer1.1.conv3.weight', 'module.layer1.1.bn3.weight', 'module.layer1.1.bn3.bias', 'module.layer1.1.bn3.running_mean', 'module.layer1.1.bn3.running_var', 'module.layer1.1.bn3.num_batches_tracked', 'module.layer1.2.conv1.weight', 'module.layer1.2.bn1.weight', 'module.layer1.2.bn1.bias', 'module.layer1.2.bn1.running_mean', 'module.layer1.2.bn1.running_var', 'module.layer1.2.bn1.num_batches_tracked', 'module.layer1.2.conv2.weight', 'module.layer1.2.bn2.weight', 'module.layer1.2.bn2.bias', 'module.layer1.2.bn2.running_mean', 'module.layer1.2.bn2.running_var', 'module.layer1.2.bn2.num_batches_tracked', 'module.layer1.2.conv3.weight', 'module.layer1.2.bn3.weight', 'module.layer1.2.bn3.bias', 'module.layer1.2.bn3.running_mean', 'module.layer1.2.bn3.running_var', 'module.layer1.2.bn3.num_batches_tracked', 'module.layer2.0.conv1.weight', 'module.layer2.0.bn1.weight', 'module.layer2.0.bn1.bias', 'module.layer2.0.bn1.running_mean', 'module.layer2.0.bn1.running_var', 'module.layer2.0.bn1.num_batches_tracked', 'module.layer2.0.conv2.weight', 'module.layer2.0.bn2.weight', 'module.layer2.0.bn2.bias', 'module.layer2.0.bn2.running_mean', 'module.layer2.0.bn2.running_var', 'module.layer2.0.bn2.num_batches_tracked', 'module.layer2.0.conv3.weight', 'module.layer2.0.bn3.weight', 'module.layer2.0.bn3.bias', 'module.layer2.0.bn3.running_mean', 'module.layer2.0.bn3.running_var', 'module.layer2.0.bn3.num_batches_tracked', 'module.layer2.0.downsample.0.weight', 'module.layer2.0.downsample.1.weight', 'module.layer2.0.downsample.1.bias', 'module.layer2.0.downsample.1.running_mean', 'module.layer2.0.downsample.1.running_var', 'module.layer2.0.downsample.1.num_batches_tracked', 'module.layer2.1.conv1.weight', 'module.layer2.1.bn1.weight', 'module.layer2.1.bn1.bias', 'module.layer2.1.bn1.running_mean', 'module.layer2.1.bn1.running_var', 'module.layer2.1.bn1.num_batches_tracked', 'module.layer2.1.conv2.weight', 'module.layer2.1.bn2.weight', 'module.layer2.1.bn2.bias', 'module.layer2.1.bn2.running_mean', 'module.layer2.1.bn2.running_var', 'module.layer2.1.bn2.num_batches_tracked', 'module.layer2.1.conv3.weight', 'module.layer2.1.bn3.weight', 'module.layer2.1.bn3.bias', 'module.layer2.1.bn3.running_mean', 'module.layer2.1.bn3.running_var', 'module.layer2.1.bn3.num_batches_tracked', 'module.layer2.2.conv1.weight', 'module.layer2.2.bn1.weight', 'module.layer2.2.bn1.bias', 'module.layer2.2.bn1.running_mean', 'module.layer2.2.bn1.running_var', 'module.layer2.2.bn1.num_batches_tracked', 'module.layer2.2.conv2.weight', 'module.layer2.2.bn2.weight', 'module.layer2.2.bn2.bias', 'module.layer2.2.bn2.running_mean', 'module.layer2.2.bn2.running_var', 'module.layer2.2.bn2.num_batches_tracked', 'module.layer2.2.conv3.weight', 'module.layer2.2.bn3.weight', 'module.layer2.2.bn3.bias', 'module.layer2.2.bn3.running_mean', 'module.layer2.2.bn3.running_var', 'module.layer2.2.bn3.num_batches_tracked', 'module.layer2.3.conv1.weight', 'module.layer2.3.bn1.weight', 'module.layer2.3.bn1.bias', 'module.layer2.3.bn1.running_mean', 'module.layer2.3.bn1.running_var', 'module.layer2.3.bn1.num_batches_tracked', 'module.layer2.3.conv2.weight', 'module.layer2.3.bn2.weight', 'module.layer2.3.bn2.bias', 'module.layer2.3.bn2.running_mean', 'module.layer2.3.bn2.running_var', 'module.layer2.3.bn2.num_batches_tracked', 'module.layer2.3.conv3.weight', 'module.layer2.3.bn3.weight', 'module.layer2.3.bn3.bias', 'module.layer2.3.bn3.running_mean', 'module.layer2.3.bn3.running_var', 'module.layer2.3.bn3.num_batches_tracked', 'module.layer3.0.conv1.weight', 'module.layer3.0.bn1.weight', 'module.layer3.0.bn1.bias', 'module.layer3.0.bn1.running_mean', 'module.layer3.0.bn1.running_var', 'module.layer3.0.bn1.num_batches_tracked', 'module.layer3.0.conv2.weight', 'module.layer3.0.bn2.weight', 'module.layer3.0.bn2.bias', 'module.layer3.0.bn2.running_mean', 'module.layer3.0.bn2.running_var', 'module.layer3.0.bn2.num_batches_tracked', 'module.layer3.0.conv3.weight', 'module.layer3.0.bn3.weight', 'module.layer3.0.bn3.bias', 'module.layer3.0.bn3.running_mean', 'module.layer3.0.bn3.running_var', 'module.layer3.0.bn3.num_batches_tracked', 'module.layer3.0.downsample.0.weight', 'module.layer3.0.downsample.1.weight', 'module.layer3.0.downsample.1.bias', 'module.layer3.0.downsample.1.running_mean', 'module.layer3.0.downsample.1.running_var', 'module.layer3.0.downsample.1.num_batches_tracked', 'module.layer3.1.conv1.weight', 'module.layer3.1.bn1.weight', 'module.layer3.1.bn1.bias', 'module.layer3.1.bn1.running_mean', 'module.layer3.1.bn1.running_var', 'module.layer3.1.bn1.num_batches_tracked', 'module.layer3.1.conv2.weight', 'module.layer3.1.bn2.weight', 'module.layer3.1.bn2.bias', 'module.layer3.1.bn2.running_mean', 'module.layer3.1.bn2.running_var', 'module.layer3.1.bn2.num_batches_tracked', 'module.layer3.1.conv3.weight', 'module.layer3.1.bn3.weight', 'module.layer3.1.bn3.bias', 'module.layer3.1.bn3.running_mean', 'module.layer3.1.bn3.running_var', 'module.layer3.1.bn3.num_batches_tracked', 'module.layer3.2.conv1.weight', 'module.layer3.2.bn1.weight', 'module.layer3.2.bn1.bias', 'module.layer3.2.bn1.running_mean', 'module.layer3.2.bn1.running_var', 'module.layer3.2.bn1.num_batches_tracked', 'module.layer3.2.conv2.weight', 'module.layer3.2.bn2.weight', 'module.layer3.2.bn2.bias', 'module.layer3.2.bn2.running_mean', 'module.layer3.2.bn2.running_var', 'module.layer3.2.bn2.num_batches_tracked', 'module.layer3.2.conv3.weight', 'module.layer3.2.bn3.weight', 'module.layer3.2.bn3.bias', 'module.layer3.2.bn3.running_mean', 'module.layer3.2.bn3.running_var', 'module.layer3.2.bn3.num_batches_tracked', 'module.layer3.3.conv1.weight', 'module.layer3.3.bn1.weight', 'module.layer3.3.bn1.bias', 'module.layer3.3.bn1.running_mean', 'module.layer3.3.bn1.running_var', 'module.layer3.3.bn1.num_batches_tracked', 'module.layer3.3.conv2.weight', 'module.layer3.3.bn2.weight', 'module.layer3.3.bn2.bias', 'module.layer3.3.bn2.running_mean', 'module.layer3.3.bn2.running_var', 'module.layer3.3.bn2.num_batches_tracked', 'module.layer3.3.conv3.weight', 'module.layer3.3.bn3.weight', 'module.layer3.3.bn3.bias', 'module.layer3.3.bn3.running_mean', 'module.layer3.3.bn3.running_var', 'module.layer3.3.bn3.num_batches_tracked', 'module.layer3.4.conv1.weight', 'module.layer3.4.bn1.weight', 'module.layer3.4.bn1.bias', 'module.layer3.4.bn1.running_mean', 'module.layer3.4.bn1.running_var', 'module.layer3.4.bn1.num_batches_tracked', 'module.layer3.4.conv2.weight', 'module.layer3.4.bn2.weight', 'module.layer3.4.bn2.bias', 'module.layer3.4.bn2.running_mean', 'module.layer3.4.bn2.running_var', 'module.layer3.4.bn2.num_batches_tracked', 'module.layer3.4.conv3.weight', 'module.layer3.4.bn3.weight', 'module.layer3.4.bn3.bias', 'module.layer3.4.bn3.running_mean', 'module.layer3.4.bn3.running_var', 'module.layer3.4.bn3.num_batches_tracked', 'module.layer3.5.conv1.weight', 'module.layer3.5.bn1.weight', 'module.layer3.5.bn1.bias', 'module.layer3.5.bn1.running_mean', 'module.layer3.5.bn1.running_var', 'module.layer3.5.bn1.num_batches_tracked', 'module.layer3.5.conv2.weight', 'module.layer3.5.bn2.weight', 'module.layer3.5.bn2.bias', 'module.layer3.5.bn2.running_mean', 'module.layer3.5.bn2.running_var', 'module.layer3.5.bn2.num_batches_tracked', 'module.layer3.5.conv3.weight', 'module.layer3.5.bn3.weight', 'module.layer3.5.bn3.bias', 'module.layer3.5.bn3.running_mean', 'module.layer3.5.bn3.running_var', 'module.layer3.5.bn3.num_batches_tracked', 'module.layer4.0.conv1.weight', 'module.layer4.0.bn1.weight', 'module.layer4.0.bn1.bias', 'module.layer4.0.bn1.running_mean', 'module.layer4.0.bn1.running_var', 'module.layer4.0.bn1.num_batches_tracked', 'module.layer4.0.conv2.weight', 'module.layer4.0.bn2.weight', 'module.layer4.0.bn2.bias', 'module.layer4.0.bn2.running_mean', 'module.layer4.0.bn2.running_var', 'module.layer4.0.bn2.num_batches_tracked', 'module.layer4.0.conv3.weight', 'module.layer4.0.bn3.weight', 'module.layer4.0.bn3.bias', 'module.layer4.0.bn3.running_mean', 'module.layer4.0.bn3.running_var', 'module.layer4.0.bn3.num_batches_tracked', 'module.layer4.0.downsample.0.weight', 'module.layer4.0.downsample.1.weight', 'module.layer4.0.downsample.1.bias', 'module.layer4.0.downsample.1.running_mean', 'module.layer4.0.downsample.1.running_var', 'module.layer4.0.downsample.1.num_batches_tracked', 'module.layer4.1.conv1.weight', 'module.layer4.1.bn1.weight', 'module.layer4.1.bn1.bias', 'module.layer4.1.bn1.running_mean', 'module.layer4.1.bn1.running_var', 'module.layer4.1.bn1.num_batches_tracked', 'module.layer4.1.conv2.weight', 'module.layer4.1.bn2.weight', 'module.layer4.1.bn2.bias', 'module.layer4.1.bn2.running_mean', 'module.layer4.1.bn2.running_var', 'module.layer4.1.bn2.num_batches_tracked', 'module.layer4.1.conv3.weight', 'module.layer4.1.bn3.weight', 'module.layer4.1.bn3.bias', 'module.layer4.1.bn3.running_mean', 'module.layer4.1.bn3.running_var', 'module.layer4.1.bn3.num_batches_tracked', 'module.layer4.2.conv1.weight', 'module.layer4.2.bn1.weight', 'module.layer4.2.bn1.bias', 'module.layer4.2.bn1.running_mean', 'module.layer4.2.bn1.running_var', 'module.layer4.2.bn1.num_batches_tracked', 'module.layer4.2.conv2.weight', 'module.layer4.2.bn2.weight', 'module.layer4.2.bn2.bias', 'module.layer4.2.bn2.running_mean', 'module.layer4.2.bn2.running_var', 'module.layer4.2.bn2.num_batches_tracked', 'module.layer4.2.conv3.weight', 'module.layer4.2.bn3.weight', 'module.layer4.2.bn3.bias', 'module.layer4.2.bn3.running_mean', 'module.layer4.2.bn3.running_var', 'module.layer4.2.bn3.num_batches_tracked', 'module.aspp.features.0.0.weight', 'module.aspp.features.0.1.weight', 'module.aspp.features.0.1.bias', 'module.aspp.features.0.1.running_mean', 'module.aspp.features.0.1.running_var', 'module.aspp.features.0.1.num_batches_tracked', 'module.aspp.features.1.0.weight', 'module.aspp.features.1.1.weight', 'module.aspp.features.1.1.bias', 'module.aspp.features.1.1.running_mean', 'module.aspp.features.1.1.running_var', 'module.aspp.features.1.1.num_batches_tracked', 'module.aspp.features.2.0.weight', 'module.aspp.features.2.1.weight', 'module.aspp.features.2.1.bias', 'module.aspp.features.2.1.running_mean', 'module.aspp.features.2.1.running_var', 'module.aspp.features.2.1.num_batches_tracked', 'module.aspp.features.3.0.weight', 'module.aspp.features.3.1.weight', 'module.aspp.features.3.1.bias', 'module.aspp.features.3.1.running_mean', 'module.aspp.features.3.1.running_var', 'module.aspp.features.3.1.num_batches_tracked', 'module.aspp.img_conv.0.weight', 'module.aspp.img_conv.1.weight', 'module.aspp.img_conv.1.bias', 'module.aspp.img_conv.1.running_mean', 'module.aspp.img_conv.1.running_var', 'module.aspp.img_conv.1.num_batches_tracked', 'module.bot_fine.weight', 'module.body_fines.0.weight', 'module.body_fines.1.weight', 'module.body_fines.2.weight', 'module.body_fuse.0.weight', 'module.body_fuse.1.weight', 'module.body_fuse.2.weight', 'module.bot_aspp.weight', 'module.edge_extractors.0.pre_extractor.0.weight', 'module.edge_extractors.0.pre_extractor.1.weight', 'module.edge_extractors.0.pre_extractor.1.bias', 'module.edge_extractors.0.pre_extractor.1.running_mean', 'module.edge_extractors.0.pre_extractor.1.running_var', 'module.edge_extractors.0.pre_extractor.1.num_batches_tracked', 'module.edge_extractors.0.extractor.0.weight', 'module.edge_extractors.0.extractor.1.weight', 'module.edge_extractors.0.extractor.1.bias', 'module.edge_extractors.0.extractor.1.running_mean', 'module.edge_extractors.0.extractor.1.running_var', 'module.edge_extractors.0.extractor.1.num_batches_tracked', 'module.edge_extractors.1.pre_extractor.0.weight', 'module.edge_extractors.1.pre_extractor.1.weight', 'module.edge_extractors.1.pre_extractor.1.bias', 'module.edge_extractors.1.pre_extractor.1.running_mean', 'module.edge_extractors.1.pre_extractor.1.running_var', 'module.edge_extractors.1.pre_extractor.1.num_batches_tracked', 'module.edge_extractors.1.extractor.0.weight', 'module.edge_extractors.1.extractor.1.weight', 'module.edge_extractors.1.extractor.1.bias', 'module.edge_extractors.1.extractor.1.running_mean', 'module.edge_extractors.1.extractor.1.running_var', 'module.edge_extractors.1.extractor.1.num_batches_tracked', 'module.edge_extractors.2.pre_extractor.0.weight', 'module.edge_extractors.2.pre_extractor.1.weight', 'module.edge_extractors.2.pre_extractor.1.bias', 'module.edge_extractors.2.pre_extractor.1.running_mean', 'module.edge_extractors.2.pre_extractor.1.running_var', 'module.edge_extractors.2.pre_extractor.1.num_batches_tracked', 'module.edge_extractors.2.extractor.0.weight', 'module.edge_extractors.2.extractor.1.weight', 'module.edge_extractors.2.extractor.1.bias', 'module.edge_extractors.2.extractor.1.running_mean', 'module.edge_extractors.2.extractor.1.running_var', 'module.edge_extractors.2.extractor.1.num_batches_tracked', 'module.refines.0.gcn.conv_adj.weight', 'module.refines.0.gcn.bn_adj.weight', 'module.refines.0.gcn.bn_adj.bias', 'module.refines.0.gcn.bn_adj.running_mean', 'module.refines.0.gcn.bn_adj.running_var', 'module.refines.0.gcn.bn_adj.num_batches_tracked', 'module.refines.0.gcn.conv_wg.weight', 'module.refines.0.gcn.bn_wg.weight', 'module.refines.0.gcn.bn_wg.bias', 'module.refines.0.gcn.bn_wg.running_mean', 'module.refines.0.gcn.bn_wg.running_var', 'module.refines.0.gcn.bn_wg.num_batches_tracked', 'module.refines.1.gcn.conv_adj.weight', 'module.refines.1.gcn.bn_adj.weight', 'module.refines.1.gcn.bn_adj.bias', 'module.refines.1.gcn.bn_adj.running_mean', 'module.refines.1.gcn.bn_adj.running_var', 'module.refines.1.gcn.bn_adj.num_batches_tracked', 'module.refines.1.gcn.conv_wg.weight', 'module.refines.1.gcn.bn_wg.weight', 'module.refines.1.gcn.bn_wg.bias', 'module.refines.1.gcn.bn_wg.running_mean', 'module.refines.1.gcn.bn_wg.running_var', 'module.refines.1.gcn.bn_wg.num_batches_tracked', 'module.refines.2.gcn.conv_adj.weight', 'module.refines.2.gcn.bn_adj.weight', 'module.refines.2.gcn.bn_adj.bias', 'module.refines.2.gcn.bn_adj.running_mean', 'module.refines.2.gcn.bn_adj.running_var', 'module.refines.2.gcn.bn_adj.num_batches_tracked', 'module.refines.2.gcn.conv_wg.weight', 'module.refines.2.gcn.bn_wg.weight', 'module.refines.2.gcn.bn_wg.bias', 'module.refines.2.gcn.bn_wg.running_mean', 'module.refines.2.gcn.bn_wg.running_var', 'module.refines.2.gcn.bn_wg.num_batches_tracked', 'module.edge_out_pre.0.0.weight', 'module.edge_out_pre.0.1.weight', 'module.edge_out_pre.0.1.bias', 'module.edge_out_pre.0.1.running_mean', 'module.edge_out_pre.0.1.running_var', 'module.edge_out_pre.0.1.num_batches_tracked', 'module.edge_out_pre.1.0.weight', 'module.edge_out_pre.1.1.weight', 'module.edge_out_pre.1.1.bias', 'module.edge_out_pre.1.1.running_mean', 'module.edge_out_pre.1.1.running_var', 'module.edge_out_pre.1.1.num_batches_tracked', 'module.edge_out_pre.2.0.weight', 'module.edge_out_pre.2.1.weight', 'module.edge_out_pre.2.1.bias', 'module.edge_out_pre.2.1.running_mean', 'module.edge_out_pre.2.1.running_var', 'module.edge_out_pre.2.1.num_batches_tracked', 'module.edge_out.0.weight', 'module.edge_out.1.weight', 'module.edge_out.2.weight', 'module.body_out_pre.0.0.weight', 'module.body_out_pre.0.1.weight', 'module.body_out_pre.0.1.bias', 'module.body_out_pre.0.1.running_mean', 'module.body_out_pre.0.1.running_var', 'module.body_out_pre.0.1.num_batches_tracked', 'module.body_out_pre.1.0.weight', 'module.body_out_pre.1.1.weight', 'module.body_out_pre.1.1.bias', 'module.body_out_pre.1.1.running_mean', 'module.body_out_pre.1.1.running_var', 'module.body_out_pre.1.1.num_batches_tracked', 'module.body_out_pre.2.0.weight', 'module.body_out_pre.2.1.weight', 'module.body_out_pre.2.1.bias', 'module.body_out_pre.2.1.running_mean', 'module.body_out_pre.2.1.running_var', 'module.body_out_pre.2.1.num_batches_tracked', 'module.body_out.0.weight', 'module.body_out.1.weight', 'module.body_out.2.weight', 'module.final_seg_out_pre.0.0.weight', 'module.final_seg_out_pre.0.1.weight', 'module.final_seg_out_pre.0.1.bias', 'module.final_seg_out_pre.0.1.running_mean', 'module.final_seg_out_pre.0.1.running_var', 'module.final_seg_out_pre.0.1.num_batches_tracked', 'module.final_seg_out_pre.1.0.weight', 'module.final_seg_out_pre.1.1.weight', 'module.final_seg_out_pre.1.1.bias', 'module.final_seg_out_pre.1.1.running_mean', 'module.final_seg_out_pre.1.1.running_var', 'module.final_seg_out_pre.1.1.num_batches_tracked', 'module.final_seg_out_pre.2.0.weight', 'module.final_seg_out_pre.2.1.weight', 'module.final_seg_out_pre.2.1.bias', 'module.final_seg_out_pre.2.1.running_mean', 'module.final_seg_out_pre.2.1.running_var', 'module.final_seg_out_pre.2.1.num_batches_tracked', 'module.final_seg_out_pre.2.3.weight', 'module.final_seg_out_pre.2.4.weight', 'module.final_seg_out_pre.2.4.bias', 'module.final_seg_out_pre.2.4.running_mean', 'module.final_seg_out_pre.2.4.running_var', 'module.final_seg_out_pre.2.4.num_batches_tracked', 'module.final_seg_out.0.weight', 'module.final_seg_out.1.weight', 'module.final_seg_out.2.weight'])"
      ]
     },
     "execution_count": 5,
     "metadata": {},
     "output_type": "execute_result"
    }
   ],
   "source": [
    "state_dict_temp.keys()"
   ]
  },
  {
   "cell_type": "code",
   "execution_count": 6,
   "metadata": {},
   "outputs": [],
   "source": [
    "state_dict_temp.keys()\n",
    "new_state_dict = OrderedDict()\n",
    "for k, v in state_dict_temp.items():\n",
    "    name = k[7:]\n",
    "    new_state_dict[name] = v"
   ]
  },
  {
   "cell_type": "code",
   "execution_count": 7,
   "metadata": {},
   "outputs": [
    {
     "ename": "RuntimeError",
     "evalue": "Error(s) in loading state_dict for EBLNet:\n\tMissing key(s) in state_dict: \"final_seg_out_pre.0.3.weight\", \"final_seg_out_pre.0.4.weight\", \"final_seg_out_pre.0.4.bias\", \"final_seg_out_pre.0.4.running_mean\", \"final_seg_out_pre.0.4.running_var\". \n\tUnexpected key(s) in state_dict: \"body_fines.1.weight\", \"body_fines.2.weight\", \"body_fuse.1.weight\", \"body_fuse.2.weight\", \"edge_extractors.1.pre_extractor.0.weight\", \"edge_extractors.1.pre_extractor.1.weight\", \"edge_extractors.1.pre_extractor.1.bias\", \"edge_extractors.1.pre_extractor.1.running_mean\", \"edge_extractors.1.pre_extractor.1.running_var\", \"edge_extractors.1.pre_extractor.1.num_batches_tracked\", \"edge_extractors.1.extractor.0.weight\", \"edge_extractors.1.extractor.1.weight\", \"edge_extractors.1.extractor.1.bias\", \"edge_extractors.1.extractor.1.running_mean\", \"edge_extractors.1.extractor.1.running_var\", \"edge_extractors.1.extractor.1.num_batches_tracked\", \"edge_extractors.2.pre_extractor.0.weight\", \"edge_extractors.2.pre_extractor.1.weight\", \"edge_extractors.2.pre_extractor.1.bias\", \"edge_extractors.2.pre_extractor.1.running_mean\", \"edge_extractors.2.pre_extractor.1.running_var\", \"edge_extractors.2.pre_extractor.1.num_batches_tracked\", \"edge_extractors.2.extractor.0.weight\", \"edge_extractors.2.extractor.1.weight\", \"edge_extractors.2.extractor.1.bias\", \"edge_extractors.2.extractor.1.running_mean\", \"edge_extractors.2.extractor.1.running_var\", \"edge_extractors.2.extractor.1.num_batches_tracked\", \"refines.1.gcn.conv_adj.weight\", \"refines.1.gcn.bn_adj.weight\", \"refines.1.gcn.bn_adj.bias\", \"refines.1.gcn.bn_adj.running_mean\", \"refines.1.gcn.bn_adj.running_var\", \"refines.1.gcn.bn_adj.num_batches_tracked\", \"refines.1.gcn.conv_wg.weight\", \"refines.1.gcn.bn_wg.weight\", \"refines.1.gcn.bn_wg.bias\", \"refines.1.gcn.bn_wg.running_mean\", \"refines.1.gcn.bn_wg.running_var\", \"refines.1.gcn.bn_wg.num_batches_tracked\", \"refines.2.gcn.conv_adj.weight\", \"refines.2.gcn.bn_adj.weight\", \"refines.2.gcn.bn_adj.bias\", \"refines.2.gcn.bn_adj.running_mean\", \"refines.2.gcn.bn_adj.running_var\", \"refines.2.gcn.bn_adj.num_batches_tracked\", \"refines.2.gcn.conv_wg.weight\", \"refines.2.gcn.bn_wg.weight\", \"refines.2.gcn.bn_wg.bias\", \"refines.2.gcn.bn_wg.running_mean\", \"refines.2.gcn.bn_wg.running_var\", \"refines.2.gcn.bn_wg.num_batches_tracked\", \"edge_out_pre.1.0.weight\", \"edge_out_pre.1.1.weight\", \"edge_out_pre.1.1.bias\", \"edge_out_pre.1.1.running_mean\", \"edge_out_pre.1.1.running_var\", \"edge_out_pre.1.1.num_batches_tracked\", \"edge_out_pre.2.0.weight\", \"edge_out_pre.2.1.weight\", \"edge_out_pre.2.1.bias\", \"edge_out_pre.2.1.running_mean\", \"edge_out_pre.2.1.running_var\", \"edge_out_pre.2.1.num_batches_tracked\", \"edge_out.1.weight\", \"edge_out.2.weight\", \"body_out_pre.1.0.weight\", \"body_out_pre.1.1.weight\", \"body_out_pre.1.1.bias\", \"body_out_pre.1.1.running_mean\", \"body_out_pre.1.1.running_var\", \"body_out_pre.1.1.num_batches_tracked\", \"body_out_pre.2.0.weight\", \"body_out_pre.2.1.weight\", \"body_out_pre.2.1.bias\", \"body_out_pre.2.1.running_mean\", \"body_out_pre.2.1.running_var\", \"body_out_pre.2.1.num_batches_tracked\", \"body_out.1.weight\", \"body_out.2.weight\", \"final_seg_out_pre.1.0.weight\", \"final_seg_out_pre.1.1.weight\", \"final_seg_out_pre.1.1.bias\", \"final_seg_out_pre.1.1.running_mean\", \"final_seg_out_pre.1.1.running_var\", \"final_seg_out_pre.1.1.num_batches_tracked\", \"final_seg_out_pre.2.0.weight\", \"final_seg_out_pre.2.1.weight\", \"final_seg_out_pre.2.1.bias\", \"final_seg_out_pre.2.1.running_mean\", \"final_seg_out_pre.2.1.running_var\", \"final_seg_out_pre.2.1.num_batches_tracked\", \"final_seg_out_pre.2.3.weight\", \"final_seg_out_pre.2.4.weight\", \"final_seg_out_pre.2.4.bias\", \"final_seg_out_pre.2.4.running_mean\", \"final_seg_out_pre.2.4.running_var\", \"final_seg_out_pre.2.4.num_batches_tracked\", \"final_seg_out.1.weight\", \"final_seg_out.2.weight\". \n\tsize mismatch for final_seg_out_pre.0.0.weight: copying a param with shape torch.Size([256, 256, 3, 3]) from checkpoint, the shape in current model is torch.Size([256, 512, 3, 3]).",
     "output_type": "error",
     "traceback": [
      "\u001b[0;31m---------------------------------------------------------------------------\u001b[0m",
      "\u001b[0;31mRuntimeError\u001b[0m                              Traceback (most recent call last)",
      "\u001b[0;32m/tmp/ipykernel_6641/3093516234.py\u001b[0m in \u001b[0;36m<module>\u001b[0;34m\u001b[0m\n\u001b[0;32m----> 1\u001b[0;31m \u001b[0mmodel\u001b[0m\u001b[0;34m.\u001b[0m\u001b[0mload_state_dict\u001b[0m\u001b[0;34m(\u001b[0m\u001b[0mnew_state_dict\u001b[0m\u001b[0;34m)\u001b[0m\u001b[0;34m\u001b[0m\u001b[0;34m\u001b[0m\u001b[0m\n\u001b[0m",
      "\u001b[0;32m~/anaconda3/envs/srp2023/lib/python3.7/site-packages/torch/nn/modules/module.py\u001b[0m in \u001b[0;36mload_state_dict\u001b[0;34m(self, state_dict, strict)\u001b[0m\n\u001b[1;32m    845\u001b[0m         \u001b[0;32mif\u001b[0m \u001b[0mlen\u001b[0m\u001b[0;34m(\u001b[0m\u001b[0merror_msgs\u001b[0m\u001b[0;34m)\u001b[0m \u001b[0;34m>\u001b[0m \u001b[0;36m0\u001b[0m\u001b[0;34m:\u001b[0m\u001b[0;34m\u001b[0m\u001b[0;34m\u001b[0m\u001b[0m\n\u001b[1;32m    846\u001b[0m             raise RuntimeError('Error(s) in loading state_dict for {}:\\n\\t{}'.format(\n\u001b[0;32m--> 847\u001b[0;31m                                self.__class__.__name__, \"\\n\\t\".join(error_msgs)))\n\u001b[0m\u001b[1;32m    848\u001b[0m         \u001b[0;32mreturn\u001b[0m \u001b[0m_IncompatibleKeys\u001b[0m\u001b[0;34m(\u001b[0m\u001b[0mmissing_keys\u001b[0m\u001b[0;34m,\u001b[0m \u001b[0munexpected_keys\u001b[0m\u001b[0;34m)\u001b[0m\u001b[0;34m\u001b[0m\u001b[0;34m\u001b[0m\u001b[0m\n\u001b[1;32m    849\u001b[0m \u001b[0;34m\u001b[0m\u001b[0m\n",
      "\u001b[0;31mRuntimeError\u001b[0m: Error(s) in loading state_dict for EBLNet:\n\tMissing key(s) in state_dict: \"final_seg_out_pre.0.3.weight\", \"final_seg_out_pre.0.4.weight\", \"final_seg_out_pre.0.4.bias\", \"final_seg_out_pre.0.4.running_mean\", \"final_seg_out_pre.0.4.running_var\". \n\tUnexpected key(s) in state_dict: \"body_fines.1.weight\", \"body_fines.2.weight\", \"body_fuse.1.weight\", \"body_fuse.2.weight\", \"edge_extractors.1.pre_extractor.0.weight\", \"edge_extractors.1.pre_extractor.1.weight\", \"edge_extractors.1.pre_extractor.1.bias\", \"edge_extractors.1.pre_extractor.1.running_mean\", \"edge_extractors.1.pre_extractor.1.running_var\", \"edge_extractors.1.pre_extractor.1.num_batches_tracked\", \"edge_extractors.1.extractor.0.weight\", \"edge_extractors.1.extractor.1.weight\", \"edge_extractors.1.extractor.1.bias\", \"edge_extractors.1.extractor.1.running_mean\", \"edge_extractors.1.extractor.1.running_var\", \"edge_extractors.1.extractor.1.num_batches_tracked\", \"edge_extractors.2.pre_extractor.0.weight\", \"edge_extractors.2.pre_extractor.1.weight\", \"edge_extractors.2.pre_extractor.1.bias\", \"edge_extractors.2.pre_extractor.1.running_mean\", \"edge_extractors.2.pre_extractor.1.running_var\", \"edge_extractors.2.pre_extractor.1.num_batches_tracked\", \"edge_extractors.2.extractor.0.weight\", \"edge_extractors.2.extractor.1.weight\", \"edge_extractors.2.extractor.1.bias\", \"edge_extractors.2.extractor.1.running_mean\", \"edge_extractors.2.extractor.1.running_var\", \"edge_extractors.2.extractor.1.num_batches_tracked\", \"refines.1.gcn.conv_adj.weight\", \"refines.1.gcn.bn_adj.weight\", \"refines.1.gcn.bn_adj.bias\", \"refines.1.gcn.bn_adj.running_mean\", \"refines.1.gcn.bn_adj.running_var\", \"refines.1.gcn.bn_adj.num_batches_tracked\", \"refines.1.gcn.conv_wg.weight\", \"refines.1.gcn.bn_wg.weight\", \"refines.1.gcn.bn_wg.bias\", \"refines.1.gcn.bn_wg.running_mean\", \"refines.1.gcn.bn_wg.running_var\", \"refines.1.gcn.bn_wg.num_batches_tracked\", \"refines.2.gcn.conv_adj.weight\", \"refines.2.gcn.bn_adj.weight\", \"refines.2.gcn.bn_adj.bias\", \"refines.2.gcn.bn_adj.running_mean\", \"refines.2.gcn.bn_adj.running_var\", \"refines.2.gcn.bn_adj.num_batches_tracked\", \"refines.2.gcn.conv_wg.weight\", \"refines.2.gcn.bn_wg.weight\", \"refines.2.gcn.bn_wg.bias\", \"refines.2.gcn.bn_wg.running_mean\", \"refines.2.gcn.bn_wg.running_var\", \"refines.2.gcn.bn_wg.num_batches_tracked\", \"edge_out_pre.1.0.weight\", \"edge_out_pre.1.1.weight\", \"edge_out_pre.1.1.bias\", \"edge_out_pre.1.1.running_mean\", \"edge_out_pre.1.1.running_var\", \"edge_out_pre.1.1.num_batches_tracked\", \"edge_out_pre.2.0.weight\", \"edge_out_pre.2.1.weight\", \"edge_out_pre.2.1.bias\", \"edge_out_pre.2.1.running_mean\", \"edge_out_pre.2.1.running_var\", \"edge_out_pre.2.1.num_batches_tracked\", \"edge_out.1.weight\", \"edge_out.2.weight\", \"body_out_pre.1.0.weight\", \"body_out_pre.1.1.weight\", \"body_out_pre.1.1.bias\", \"body_out_pre.1.1.running_mean\", \"body_out_pre.1.1.running_var\", \"body_out_pre.1.1.num_batches_tracked\", \"body_out_pre.2.0.weight\", \"body_out_pre.2.1.weight\", \"body_out_pre.2.1.bias\", \"body_out_pre.2.1.running_mean\", \"body_out_pre.2.1.running_var\", \"body_out_pre.2.1.num_batches_tracked\", \"body_out.1.weight\", \"body_out.2.weight\", \"final_seg_out_pre.1.0.weight\", \"final_seg_out_pre.1.1.weight\", \"final_seg_out_pre.1.1.bias\", \"final_seg_out_pre.1.1.running_mean\", \"final_seg_out_pre.1.1.running_var\", \"final_seg_out_pre.1.1.num_batches_tracked\", \"final_seg_out_pre.2.0.weight\", \"final_seg_out_pre.2.1.weight\", \"final_seg_out_pre.2.1.bias\", \"final_seg_out_pre.2.1.running_mean\", \"final_seg_out_pre.2.1.running_var\", \"final_seg_out_pre.2.1.num_batches_tracked\", \"final_seg_out_pre.2.3.weight\", \"final_seg_out_pre.2.4.weight\", \"final_seg_out_pre.2.4.bias\", \"final_seg_out_pre.2.4.running_mean\", \"final_seg_out_pre.2.4.running_var\", \"final_seg_out_pre.2.4.num_batches_tracked\", \"final_seg_out.1.weight\", \"final_seg_out.2.weight\". \n\tsize mismatch for final_seg_out_pre.0.0.weight: copying a param with shape torch.Size([256, 256, 3, 3]) from checkpoint, the shape in current model is torch.Size([256, 512, 3, 3])."
     ]
    }
   ],
   "source": [
    "model.load_state_dict(new_state_dict)"
   ]
  },
  {
   "cell_type": "code",
   "execution_count": null,
   "metadata": {},
   "outputs": [],
   "source": [
    "def get_model(network, num_classes, criterion, args):\n",
    "    \"\"\"\n",
    "    Fetch Network Function Pointer\n",
    "    \"\"\"\n",
    "    module = network[:network.rfind('.')]\n",
    "    model = network[network.rfind('.') + 1:]\n",
    "    mod = importlib.import_module(module)\n",
    "    net_func = getattr(mod, model)\n",
    "    if model == 'EBLNet_resnet50_os8' or model == 'EBLNet_resnet50_os16' or \\\n",
    "            model == 'EBLNet_resnet101_os8' or model == 'EBLNet_resnext101_os8':\n",
    "        net = net_func(num_classes=num_classes, criterion=criterion,\n",
    "                       num_cascade=args.num_cascade, num_points=args.num_points, threshold=args.thres_gcn)\n",
    "    else:\n",
    "        net = net_func(num_classes=num_classes, criterion=criterion)\n",
    "    return net\n",
    "\n",
    "def get_net(args, criterion):\n",
    "    \"\"\"\n",
    "    Get Network Architecture based on arguments provided\n",
    "    \"\"\"\n",
    "    net = get_model(network=args.arch, num_classes=args.dataset_cls.num_classes,\n",
    "                    criterion=criterion, args=args)\n",
    "\n",
    "    net = net.cuda()\n",
    "    return net\n",
    "\n"
   ]
  }
 ],
 "metadata": {
  "kernelspec": {
   "display_name": "srp2023",
   "language": "python",
   "name": "python3"
  },
  "language_info": {
   "codemirror_mode": {
    "name": "ipython",
    "version": 3
   },
   "file_extension": ".py",
   "mimetype": "text/x-python",
   "name": "python",
   "nbconvert_exporter": "python",
   "pygments_lexer": "ipython3",
   "version": "3.7.12"
  }
 },
 "nbformat": 4,
 "nbformat_minor": 2
}
