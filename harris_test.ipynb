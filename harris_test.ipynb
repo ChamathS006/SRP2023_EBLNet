{
 "cells": [
  {
   "cell_type": "code",
   "execution_count": 1,
   "metadata": {},
   "outputs": [
    {
     "name": "stderr",
     "output_type": "stream",
     "text": [
      "/home/chamathdsuraweera/anaconda3/envs/srp2023/lib/python3.7/site-packages/tqdm/auto.py:22: TqdmWarning: IProgress not found. Please update jupyter and ipywidgets. See https://ipywidgets.readthedocs.io/en/stable/user_install.html\n",
      "  from .autonotebook import tqdm as notebook_tqdm\n"
     ]
    }
   ],
   "source": [
    "# Importing any libraries\n",
    "import cv2\n",
    "import torchvision\n",
    "import torch as nn\n",
    "import numpy as np\n"
   ]
  },
  {
   "cell_type": "code",
   "execution_count": 2,
   "metadata": {},
   "outputs": [],
   "source": [
    "# Importing images from results\n",
    "image = cv2.imread(\"results/test/rgb/4_color.png\")\n",
    "# Make into grayscale and float32\n",
    "grayImage = cv2.cvtColor(image, cv2.COLOR_RGB2GRAY)\n",
    "grayImage = np.float32(grayImage)\n",
    "# Show the image\n",
    "cv2.imshow(\"blah\", grayImage)\n",
    "cv2.waitKey(0)\n",
    "cv2.destroyAllWindows()"
   ]
  },
  {
   "cell_type": "code",
   "execution_count": 5,
   "metadata": {},
   "outputs": [],
   "source": [
    "# Running random images through cv2.cornerHarris\n",
    "cHBlockSize = 2\n",
    "kSize = 3\n",
    "k = 0.04\n",
    "output = cv2.cornerHarris(grayImage, blockSize=cHBlockSize, ksize=kSize, k=k)\n",
    "\n",
    "output = cv2.cvtColor(output, cv2.COLOR_GRAY2RGB)"
   ]
  },
  {
   "cell_type": "code",
   "execution_count": 6,
   "metadata": {},
   "outputs": [],
   "source": [
    "cv2.imshow(\"blah\", output)\n",
    "cv2.waitKey(0)\n",
    "cv2.destroyAllWindows()"
   ]
  }
 ],
 "metadata": {
  "kernelspec": {
   "display_name": "srp2023",
   "language": "python",
   "name": "python3"
  },
  "language_info": {
   "codemirror_mode": {
    "name": "ipython",
    "version": 3
   },
   "file_extension": ".py",
   "mimetype": "text/x-python",
   "name": "python",
   "nbconvert_exporter": "python",
   "pygments_lexer": "ipython3",
   "version": "3.7.12"
  }
 },
 "nbformat": 4,
 "nbformat_minor": 2
}
